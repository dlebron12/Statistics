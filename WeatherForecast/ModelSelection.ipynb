{
 "cells": [
  {
   "cell_type": "code",
   "execution_count": 7,
   "id": "449b9e8f",
   "metadata": {},
   "outputs": [],
   "source": [
    "import pandas as pd\n",
    "\n",
    "Testing = pd.read_csv('WeatherTestingData.csv')\n",
    "Training = pd.read_csv('WeatherTrainingData.csv')\n",
    "XTrain = Training.drop('Rain', axis = 1)\n",
    "yTrain = Training['Rain']\n",
    "XTest = Testing.drop('Rain', axis = 1)\n",
    "yTest = Testing['Rain']"
   ]
  },
  {
   "cell_type": "markdown",
   "id": "4bfd4188",
   "metadata": {},
   "source": [
    "Lets try the Stochastic Gradient Descent Classifier on the data modeled with Temp, Humidity ad Cloud Cover"
   ]
  },
  {
   "cell_type": "code",
   "execution_count": 16,
   "id": "9db20d61",
   "metadata": {},
   "outputs": [
    {
     "data": {
      "text/plain": [
       "0.888"
      ]
     },
     "execution_count": 16,
     "metadata": {},
     "output_type": "execute_result"
    }
   ],
   "source": [
    "from sklearn.linear_model import SGDClassifier\n",
    "\n",
    "r = 42 #random state\n",
    "sdg = SGDClassifier(random_state = r)\n",
    "sdg.fit(XTrain, yTrain)\n",
    "\n",
    "ypred = sdg.predict(XTest)\n",
    "\n",
    "from sklearn.metrics import accuracy_score, roc_auc_score\n",
    "accuracy_score(yTest, ypred )"
   ]
  },
  {
   "cell_type": "code",
   "execution_count": 31,
   "id": "94976309",
   "metadata": {},
   "outputs": [
    {
     "data": {
      "text/plain": [
       "0.992"
      ]
     },
     "execution_count": 31,
     "metadata": {},
     "output_type": "execute_result"
    }
   ],
   "source": [
    "from sklearn.ensemble import RandomForestClassifier\n",
    "\n",
    "forest = RandomForestClassifier(n_estimators = 50, \n",
    "                                max_depth = 5,\n",
    "                                min_samples_split = 20,\n",
    "                                random_state = r,\n",
    "                                bootstrap = True)\n",
    "\n",
    "#fit model to the training data\n",
    "forest.fit(XTrain, yTrain)\n",
    "ypred_Trainforest = forest.predict(XTrain)\n",
    "\n",
    "ypred_forest = forest.predict(XTest)\n",
    "\n",
    "accuracy_score(yTest, ypred_forest)\n"
   ]
  },
  {
   "cell_type": "code",
   "execution_count": 21,
   "id": "ed3f8ec9",
   "metadata": {},
   "outputs": [
    {
     "data": {
      "text/plain": [
       "1.0"
      ]
     },
     "execution_count": 21,
     "metadata": {},
     "output_type": "execute_result"
    }
   ],
   "source": [
    "roc_auc_score(yTrain, ypred_Trainforest )"
   ]
  },
  {
   "cell_type": "code",
   "execution_count": null,
   "id": "12169b3f",
   "metadata": {},
   "outputs": [],
   "source": [
    "- knn\n",
    "- svm\n"
   ]
  }
 ],
 "metadata": {
  "kernelspec": {
   "display_name": "Python 3 (ipykernel)",
   "language": "python",
   "name": "python3"
  },
  "language_info": {
   "codemirror_mode": {
    "name": "ipython",
    "version": 3
   },
   "file_extension": ".py",
   "mimetype": "text/x-python",
   "name": "python",
   "nbconvert_exporter": "python",
   "pygments_lexer": "ipython3",
   "version": "3.11.5"
  }
 },
 "nbformat": 4,
 "nbformat_minor": 5
}
