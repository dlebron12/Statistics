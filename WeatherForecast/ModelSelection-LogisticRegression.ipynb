{
 "cells": [
  {
   "cell_type": "markdown",
   "id": "d6b956d3",
   "metadata": {},
   "source": [
    "# Training Models:\n",
    "- **Feature Selection**: We will be doing a step-wise feature selection where we will be feeding the model different subsets of the explanatory variables and selecting the most optimal. \n",
    "- **Model Selection** : We will be examining he model with the best accuracy and F1 parameters.\n",
    "- **Algorithm Selection** : We will be training Logistic Regression, Decision Trees and CatBoost and opting for the best classification algorithm. "
   ]
  },
  {
   "cell_type": "code",
   "execution_count": 1,
   "id": "07e5bef4",
   "metadata": {},
   "outputs": [],
   "source": [
    "import pandas as pd\n",
    "\n",
    "data = pd.read_csv('weather_forecast_data.csv')"
   ]
  },
  {
   "cell_type": "markdown",
   "id": "a0d70766",
   "metadata": {},
   "source": [
    "In the EDA section we observed that the number of observations for 'rain' are far less than those from 'no rain'\n",
    "- num of rain observations: 314\n",
    "- num of no rain observations: 2186\n",
    "\n",
    "Thats only 14% of the observations giving information about rain.\n",
    "\n",
    "\n",
    "The location of where the data was collected is of important knowledge to see if the data that we posses is representative of a real-life scenario. But we dont have that information.  Lets proceed to split the data into testing and training. \n",
    "\n",
    "We will opt for a stratifiedsplit to keep the same proportions of rain to no rain obs equally, to not incur in **sampling bias**. "
   ]
  },
  {
   "cell_type": "code",
   "execution_count": 2,
   "id": "ca3420c6",
   "metadata": {},
   "outputs": [],
   "source": [
    "from sklearn.model_selection import StratifiedShuffleSplit\n",
    "\n",
    "def split_and_correct(data, yvarname):\n",
    "    split = StratifiedShuffleSplit(n_splits =1, test_size = 0.2, random_state = 30)\n",
    "    data['Rain'] = data[yvarname].map({'rain': 1,'no rain': 0})\n",
    "    for itrain, itest in split.split(data, data[yvarname]):\n",
    "        XTrain = data.loc[itrain]\n",
    "        XTest = data.loc[itest]\n",
    "        Y_Train = XTrain[yvarname]\n",
    "        X_Train = XTrain.drop(yvarname, axis = 1)\n",
    "        Y_Test = XTest[yvarname]\n",
    "        X_Test = XTest.drop(yvarname, axis = 1)\n",
    "        \n",
    "    return X_Test, X_Train, Y_Test, Y_Train"
   ]
  },
  {
   "cell_type": "code",
   "execution_count": 3,
   "id": "d5b59f5b",
   "metadata": {},
   "outputs": [],
   "source": [
    "XTest, XTrain, ytest, ytrain = split_and_correct(data, 'Rain')"
   ]
  },
  {
   "cell_type": "code",
   "execution_count": 4,
   "id": "25d334f6",
   "metadata": {},
   "outputs": [
    {
     "data": {
      "text/plain": [
       "(500, 5)"
      ]
     },
     "execution_count": 4,
     "metadata": {},
     "output_type": "execute_result"
    }
   ],
   "source": [
    "XTest.shape"
   ]
  },
  {
   "cell_type": "code",
   "execution_count": 5,
   "id": "07cf6701",
   "metadata": {},
   "outputs": [
    {
     "data": {
      "text/plain": [
       "(2000, 5)"
      ]
     },
     "execution_count": 5,
     "metadata": {},
     "output_type": "execute_result"
    }
   ],
   "source": [
    "XTrain.shape"
   ]
  },
  {
   "cell_type": "code",
   "execution_count": 6,
   "id": "772c331b",
   "metadata": {},
   "outputs": [
    {
     "data": {
      "text/plain": [
       "0.14416475972540047"
      ]
     },
     "execution_count": 6,
     "metadata": {},
     "output_type": "execute_result"
    }
   ],
   "source": [
    "sum(ytest == 1) / sum(ytest == 0)"
   ]
  },
  {
   "cell_type": "code",
   "execution_count": 7,
   "id": "54fdc321",
   "metadata": {},
   "outputs": [
    {
     "data": {
      "text/plain": [
       "0.14351057747284163"
      ]
     },
     "execution_count": 7,
     "metadata": {},
     "output_type": "execute_result"
    }
   ],
   "source": [
    "sum(ytrain == 1) / sum(ytrain == 0)"
   ]
  },
  {
   "cell_type": "markdown",
   "id": "0b76ef0f",
   "metadata": {},
   "source": [
    "# Standarize the data"
   ]
  },
  {
   "cell_type": "code",
   "execution_count": 8,
   "id": "aa2b4b5e",
   "metadata": {},
   "outputs": [],
   "source": [
    "from sklearn.preprocessing import StandardScaler\n",
    "standarizer = StandardScaler()\n",
    "XTrain1 = standarizer.fit_transform(XTrain)\n",
    "XTest1 = standarizer.fit_transform(XTest)"
   ]
  },
  {
   "cell_type": "markdown",
   "id": "0b17a2cb",
   "metadata": {},
   "source": [
    "## Logistic Regression"
   ]
  },
  {
   "cell_type": "code",
   "execution_count": 9,
   "id": "f3bc6127",
   "metadata": {},
   "outputs": [
    {
     "data": {
      "text/plain": [
       "array([[-1.77951601,  2.54944472, -0.08486666,  2.26601776,  0.04176596]])"
      ]
     },
     "execution_count": 9,
     "metadata": {},
     "output_type": "execute_result"
    }
   ],
   "source": [
    "from sklearn.linear_model import LogisticRegression\n",
    "\n",
    "log_reg = LogisticRegression()\n",
    "#model with all variables\n",
    "log_reg.fit(XTrain1, ytrain)\n",
    "log_reg.coef_"
   ]
  },
  {
   "cell_type": "code",
   "execution_count": 10,
   "id": "4c9230dd",
   "metadata": {},
   "outputs": [
    {
     "data": {
      "text/html": [
       "<div>\n",
       "<style scoped>\n",
       "    .dataframe tbody tr th:only-of-type {\n",
       "        vertical-align: middle;\n",
       "    }\n",
       "\n",
       "    .dataframe tbody tr th {\n",
       "        vertical-align: top;\n",
       "    }\n",
       "\n",
       "    .dataframe thead th {\n",
       "        text-align: right;\n",
       "    }\n",
       "</style>\n",
       "<table border=\"1\" class=\"dataframe\">\n",
       "  <thead>\n",
       "    <tr style=\"text-align: right;\">\n",
       "      <th></th>\n",
       "      <th>Temperature</th>\n",
       "      <th>Humidity</th>\n",
       "      <th>Wind_Speed</th>\n",
       "      <th>Cloud_Cover</th>\n",
       "      <th>Pressure</th>\n",
       "    </tr>\n",
       "  </thead>\n",
       "  <tbody>\n",
       "    <tr>\n",
       "      <th>0</th>\n",
       "      <td>-1.779516</td>\n",
       "      <td>2.549445</td>\n",
       "      <td>-0.084867</td>\n",
       "      <td>2.266018</td>\n",
       "      <td>0.041766</td>\n",
       "    </tr>\n",
       "  </tbody>\n",
       "</table>\n",
       "</div>"
      ],
      "text/plain": [
       "   Temperature  Humidity  Wind_Speed  Cloud_Cover  Pressure\n",
       "0    -1.779516  2.549445   -0.084867     2.266018  0.041766"
      ]
     },
     "execution_count": 10,
     "metadata": {},
     "output_type": "execute_result"
    }
   ],
   "source": [
    "Coef = pd.DataFrame(log_reg.coef_, columns = data.columns[:-1])\n",
    "Coef"
   ]
  },
  {
   "cell_type": "code",
   "execution_count": 11,
   "id": "c7eef985",
   "metadata": {},
   "outputs": [],
   "source": [
    "from sklearn.metrics import accuracy_score\n",
    "y_pred = log_reg.predict(XTest1)\n",
    "acc = accuracy_score(ytest, y_pred)"
   ]
  },
  {
   "cell_type": "code",
   "execution_count": 12,
   "id": "1373ce51",
   "metadata": {},
   "outputs": [
    {
     "data": {
      "text/plain": [
       "0.928"
      ]
     },
     "execution_count": 12,
     "metadata": {},
     "output_type": "execute_result"
    }
   ],
   "source": [
    "acc"
   ]
  },
  {
   "cell_type": "markdown",
   "id": "8425f405",
   "metadata": {},
   "source": [
    "Since sklearn doesnt have a stepwise feature selection process we will use the RFE (https://scikit-learn.org/stable/modules/generated/sklearn.feature_selection.RFE.html) \n"
   ]
  },
  {
   "cell_type": "code",
   "execution_count": 13,
   "id": "89a51ccb",
   "metadata": {},
   "outputs": [],
   "source": [
    "from sklearn.feature_selection import RFE\n",
    "selector = RFE(log_reg, n_features_to_select=3, step=1)\n",
    "selector = selector.fit(XTrain, ytrain)"
   ]
  },
  {
   "cell_type": "code",
   "execution_count": 14,
   "id": "f404465e",
   "metadata": {},
   "outputs": [
    {
     "data": {
      "text/plain": [
       "Index(['Temperature', 'Humidity', 'Cloud_Cover'], dtype='object')"
      ]
     },
     "execution_count": 14,
     "metadata": {},
     "output_type": "execute_result"
    }
   ],
   "source": [
    "features =data.columns[:-1]\n",
    "modelf = features[selector.support_]\n",
    "modelf"
   ]
  },
  {
   "cell_type": "code",
   "execution_count": 15,
   "id": "3bc360d3",
   "metadata": {},
   "outputs": [],
   "source": [
    "XTrain2 = standarizer.fit_transform(XTrain[modelf])\n",
    "XTest2 = standarizer.fit_transform(XTest[modelf])"
   ]
  },
  {
   "cell_type": "markdown",
   "id": "82fa8d17",
   "metadata": {},
   "source": [
    "lets fit the model **Rain = b0 + Temperature + Humidity + Cloud_Cover** with those variables and calculate the accuracy \n",
    "\n",
    "`.predict()` predicts classes and `.predict_proba` outputs the probability calculations "
   ]
  },
  {
   "cell_type": "code",
   "execution_count": 16,
   "id": "74459847",
   "metadata": {},
   "outputs": [
    {
     "name": "stdout",
     "output_type": "stream",
     "text": [
      "Accuracy on Test Data is : 0.93\n",
      "Accuracy on Training Data is: 0.932\n"
     ]
    }
   ],
   "source": [
    "log_reg2 = LogisticRegression()\n",
    "#model with all variables\n",
    "log_reg2.fit(XTrain2, ytrain)\n",
    "\n",
    "ypred_train = log_reg2.predict(XTrain2)\n",
    "#Fit model 2 for testing data\n",
    "y_pred2 = log_reg2.predict(XTest2)\n",
    "print(f'Accuracy on Test Data is : {accuracy_score(ytest, y_pred2)}')\n",
    "print(f'Accuracy on Training Data is: {accuracy_score(ytrain, ypred_train)}')"
   ]
  },
  {
   "cell_type": "code",
   "execution_count": null,
   "id": "fdf51369",
   "metadata": {},
   "outputs": [],
   "source": [
    "plt.plot()"
   ]
  },
  {
   "cell_type": "markdown",
   "id": "059544de",
   "metadata": {},
   "source": [
    "## Coefficients"
   ]
  },
  {
   "cell_type": "code",
   "execution_count": 81,
   "id": "0686ad0a",
   "metadata": {},
   "outputs": [
    {
     "name": "stdout",
     "output_type": "stream",
     "text": [
      "coefficients for model Temp + Humidity + Cloud Cover\n",
      "[[ 0.16896571 12.69791973  9.64665321]]\n"
     ]
    }
   ],
   "source": [
    "print('coefficients for model Temp + Humidity + Cloud Cover')\n",
    "print(np.exp(log_reg2.coef_)) #Calculate odd ratios"
   ]
  },
  {
   "cell_type": "markdown",
   "id": "46d1eaac",
   "metadata": {},
   "source": [
    "## Explain the coefficients, how to calculate the 95% C.I ?\n",
    "Pending\n"
   ]
  },
  {
   "cell_type": "code",
   "execution_count": 68,
   "id": "6ef17b92",
   "metadata": {},
   "outputs": [],
   "source": [
    "def output_classmetrics(ypred, ytrue):\n",
    "    from sklearn.metrics import confusion_matrix\n",
    "    # Confusion matrix for the test model\n",
    "    cm = pd.DataFrame(confusion_matrix(ytest, ypred), columns = ['Neg Pred', 'Pos Pred'], index = ['Neg Actual', 'Pos Actual'])\n",
    "    print(cm)\n",
    "    print(\"\\n\")\n",
    "\n",
    "    from sklearn.metrics import precision_score, recall_score\n",
    "    print(f' Precision score: {round(precision_score(ytrue, ypred),2)}')\n",
    "    print(f' Recall score: {round(recall_score(ytrue, ypred),2)}')"
   ]
  },
  {
   "cell_type": "code",
   "execution_count": 69,
   "id": "3f6c1e64",
   "metadata": {},
   "outputs": [
    {
     "name": "stdout",
     "output_type": "stream",
     "text": [
      "            Neg Pred  Pos Pred\n",
      "Neg Actual       425        12\n",
      "Pos Actual        23        40\n",
      "\n",
      "\n",
      " Precision score: 0.77\n",
      " Recall score: 0.63\n"
     ]
    }
   ],
   "source": [
    "output_classmetrics(y_pred2, ytest)"
   ]
  },
  {
   "cell_type": "code",
   "execution_count": 73,
   "id": "ad930a28",
   "metadata": {},
   "outputs": [
    {
     "data": {
      "image/png": "[encoded data removed]",
      "text/plain": [
       "<Figure size 640x480 with 1 Axes>"
      ]
     },
     "metadata": {},
     "output_type": "display_data"
    }
   ],
   "source": [
    "from sklearn.metrics import roc_curve\n",
    "import matplotlib.pyplot as plt\n",
    "from sklearn.metrics import roc_auc_score\n",
    "\n",
    "fpr, tpr, thresholds = roc_curve(ytrain,ypred_train)\n",
    "\n",
    "def plot_roc_curve(fpr, tpr, label = None):\n",
    "    plt.plot(fpr, tpr, label = label)\n",
    "    plt.axis([0,1,0,1])\n",
    "    plt.xlabel('FPR')\n",
    "    plt.ylabel('TPR')\n",
    "    \n",
    "plot_roc_curve(fpr, tpr)\n",
    "plt.show()"
   ]
  },
  {
   "cell_type": "code",
   "execution_count": 74,
   "id": "b5ee2cee",
   "metadata": {},
   "outputs": [
    {
     "name": "stdout",
     "output_type": "stream",
     "text": [
      "0.812685222517591\n"
     ]
    }
   ],
   "source": [
    "print(roc_auc_score(ytrain, ypred_train))"
   ]
  },
  {
   "cell_type": "code",
   "execution_count": 53,
   "id": "55f5bacd",
   "metadata": {},
   "outputs": [],
   "source": [
    "# Save standarized splitted data\n",
    "\n",
    "pd.concat([XTest, ytest], axis = 1).to_csv('WeatherTestingData.csv', header = True, index = True)\n",
    "pd.concat([XTrain, ytrain], axis = 1).to_csv('WeatherTrainingData.csv', header = True, index = True)"
   ]
  },
  {
   "cell_type": "code",
   "execution_count": 54,
   "id": "4e82cdda",
   "metadata": {},
   "outputs": [
    {
     "name": "stdout",
     "output_type": "stream",
     "text": [
      "EDA.ipynb                               WeatherTrainingData.csv\r\n",
      "ModelSelection-LogisticRegression.ipynb download_data.sh\r\n",
      "WeatherTestingData.csv                  weather_forecast_data.csv\r\n"
     ]
    }
   ],
   "source": [
    "!ls"
   ]
  }
 ],
 "metadata": {
  "kernelspec": {
   "display_name": "Python 3 (ipykernel)",
   "language": "python",
   "name": "python3"
  },
  "language_info": {
   "codemirror_mode": {
    "name": "ipython",
    "version": 3
   },
   "file_extension": ".py",
   "mimetype": "text/x-python",
   "name": "python",
   "nbconvert_exporter": "python",
   "pygments_lexer": "ipython3",
   "version": "3.11.5"
  }
 },
 "nbformat": 4,
 "nbformat_minor": 5
}
