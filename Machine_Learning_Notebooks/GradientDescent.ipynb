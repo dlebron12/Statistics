{
 "cells": [
  {
   "cell_type": "code",
   "execution_count": 11,
   "id": "9017245a",
   "metadata": {},
   "outputs": [],
   "source": [
    "def gradient_descent(eta, n, m, theta):\n",
    "    \n",
    "    # Initialize variables\n",
    "    X = 2 * np.random.rand(100, 1) \n",
    "    y = 4 + 3 * X + np.random.rand(100,1)\n",
    "    \n",
    "    X_b = np.c_[np.ones((100,1)) , X] # add x0 =1 to each instance \n",
    "    \n",
    "    for i in range(n):\n",
    "        gradients = (2/m) * X_b.T.dot(X_b.dot(theta) - y)\n",
    "        theta = theta - eta*gradients \n",
    "        \n",
    "    return theta"
   ]
  },
  {
   "cell_type": "code",
   "execution_count": 12,
   "id": "5f86ae82",
   "metadata": {},
   "outputs": [
    {
     "data": {
      "text/plain": [
       "array([[4.56790915],\n",
       "       [2.95518281]])"
      ]
     },
     "execution_count": 12,
     "metadata": {},
     "output_type": "execute_result"
    }
   ],
   "source": [
    "import numpy as np\n",
    "\n",
    "eta = 0.1\n",
    "n_iterations = 1000\n",
    "m = 100\n",
    "\n",
    "gradient_descent(eta, n_iterations, m, theta = np.random.randn(2,1))"
   ]
  },
  {
   "cell_type": "code",
   "execution_count": null,
   "id": "d6f8cf69",
   "metadata": {},
   "outputs": [],
   "source": []
  }
 ],
 "metadata": {
  "kernelspec": {
   "display_name": "Python 3 (ipykernel)",
   "language": "python",
   "name": "python3"
  },
  "language_info": {
   "codemirror_mode": {
    "name": "ipython",
    "version": 3
   },
   "file_extension": ".py",
   "mimetype": "text/x-python",
   "name": "python",
   "nbconvert_exporter": "python",
   "pygments_lexer": "ipython3",
   "version": "3.11.5"
  }
 },
 "nbformat": 4,
 "nbformat_minor": 5
}
