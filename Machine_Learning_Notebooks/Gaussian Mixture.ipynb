{
 "cells": [
  {
   "cell_type": "markdown",
   "id": "53d7c5c2-44bf-4254-b392-faa057d314db",
   "metadata": {},
   "source": [
    "## Mixture Gausian"
   ]
  },
  {
   "cell_type": "code",
   "execution_count": null,
   "id": "d9902d37-3926-4a6f-bf45-d63a7d336b54",
   "metadata": {},
   "outputs": [],
   "source": [
    "N = 10000"
   ]
  }
 ],
 "metadata": {
  "kernelspec": {
   "display_name": "Python 3 (ipykernel)",
   "language": "python",
   "name": "python3"
  },
  "language_info": {
   "codemirror_mode": {
    "name": "ipython",
    "version": 3
   },
   "file_extension": ".py",
   "mimetype": "text/x-python",
   "name": "python",
   "nbconvert_exporter": "python",
   "pygments_lexer": "ipython3",
   "version": "3.11.5"
  }
 },
 "nbformat": 4,
 "nbformat_minor": 5
}
