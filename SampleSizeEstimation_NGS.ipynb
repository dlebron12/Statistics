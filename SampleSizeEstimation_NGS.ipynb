{
 "cells": [
  {
   "cell_type": "markdown",
   "id": "778feaaf",
   "metadata": {},
   "source": [
    "Estimating sample size for Next Generation Sequencing (NGS) involves considering factors like **desired statistical power, effect size, expected variability in the data, the specific NGS technique** (e.g., RNA-seq, exome sequencing), and the cost of sequencing, ultimately aiming to collect enough samples to reliably detect significant differences while minimizing unnecessary data generation; this typically requires using power analysis calculations and considering parameters like fold change, average read count, and desired false discovery rate (FDR) level"
   ]
  },
  {
   "cell_type": "markdown",
   "id": "ed2b31fd",
   "metadata": {},
   "source": [
    "### Estimate relevant parameters:\n",
    "- Fold change: If studying differential expression, estimate the minimum fold change you want to detect. \n",
    "- Variance: Estimate the expected variance in your data, potentially using data from pilot studies or literature. \n",
    "- Desired power: Set the desired statistical power (typically around 80% or higher). "
   ]
  },
  {
   "cell_type": "markdown",
   "id": "0d3e290d",
   "metadata": {},
   "source": [
    "The read counts and their related dispersions will be selected randomly from the reference (sample) based on their distributions, and from that, the power and sample size will be estimated and summarized.  You can use a data from a pilot study to estimate the sample size."
   ]
  },
  {
   "cell_type": "markdown",
   "id": "c904e2db",
   "metadata": {},
   "source": [
    "##  Estimating the sample size for RNA-seq data to achieve\n",
    "desired power of finding significant genes, and we have the following parameters:\n",
    "- Desired power of finding significant genes: 0.8;\n",
    "- Minimal fold change between two groups: 2;\n",
    "- Minimal average read counts: 5;\n",
    "- Maximal dispersion: 0.5;\n",
    "- False discovery rate: 0.01;"
   ]
  },
  {
   "cell_type": "code",
   "execution_count": 3,
   "id": "9c8af3a8",
   "metadata": {},
   "outputs": [
    {
     "name": "stderr",
     "output_type": "stream",
     "text": [
      "UsageError: Cell magic `%%R` not found.\n"
     ]
    }
   ],
   "source": [
    "%%R\n",
    " \n",
    "if (!require(\"BiocManager\", quietly = TRUE))\n",
    "    install.packages(\"BiocManager\")\n",
    "\n",
    "BiocManager::install(\"RnaSeqSampleSize\")\n"
   ]
  },
  {
   "cell_type": "markdown",
   "id": "c1ae0f44",
   "metadata": {},
   "source": [
    "## Other notes:\n",
    "\n",
    "a sample size of 3-6 replicates per group with a sequencing depth of 20-50 million reads per sample is considered a good starting point"
   ]
  },
  {
   "cell_type": "code",
   "execution_count": null,
   "id": "d0fb3c2f",
   "metadata": {},
   "outputs": [],
   "source": []
  }
 ],
 "metadata": {
  "kernelspec": {
   "display_name": "Python 3 (ipykernel)",
   "language": "python",
   "name": "python3"
  },
  "language_info": {
   "codemirror_mode": {
    "name": "ipython",
    "version": 3
   },
   "file_extension": ".py",
   "mimetype": "text/x-python",
   "name": "python",
   "nbconvert_exporter": "python",
   "pygments_lexer": "ipython3",
   "version": "3.11.5"
  }
 },
 "nbformat": 4,
 "nbformat_minor": 5
}
