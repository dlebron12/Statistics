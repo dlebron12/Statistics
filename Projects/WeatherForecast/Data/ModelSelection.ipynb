{
 "cells": [
  {
   "cell_type": "code",
   "execution_count": 39,
   "id": "b1d1b5c4",
   "metadata": {},
   "outputs": [
    {
     "data": {
      "text/html": [
       "<div>\n",
       "<style scoped>\n",
       "    .dataframe tbody tr th:only-of-type {\n",
       "        vertical-align: middle;\n",
       "    }\n",
       "\n",
       "    .dataframe tbody tr th {\n",
       "        vertical-align: top;\n",
       "    }\n",
       "\n",
       "    .dataframe thead th {\n",
       "        text-align: right;\n",
       "    }\n",
       "</style>\n",
       "<table border=\"1\" class=\"dataframe\">\n",
       "  <thead>\n",
       "    <tr style=\"text-align: right;\">\n",
       "      <th></th>\n",
       "      <th>Temperature</th>\n",
       "      <th>Humidity</th>\n",
       "      <th>Wind_Speed</th>\n",
       "      <th>Cloud_Cover</th>\n",
       "      <th>Pressure</th>\n",
       "      <th>Rain</th>\n",
       "    </tr>\n",
       "  </thead>\n",
       "  <tbody>\n",
       "    <tr>\n",
       "      <th>2490</th>\n",
       "      <td>27.365273</td>\n",
       "      <td>43.619778</td>\n",
       "      <td>3.390757</td>\n",
       "      <td>69.498333</td>\n",
       "      <td>980.694046</td>\n",
       "      <td>0</td>\n",
       "    </tr>\n",
       "    <tr>\n",
       "      <th>45</th>\n",
       "      <td>26.765947</td>\n",
       "      <td>73.079638</td>\n",
       "      <td>18.220506</td>\n",
       "      <td>54.832678</td>\n",
       "      <td>997.681740</td>\n",
       "      <td>0</td>\n",
       "    </tr>\n",
       "    <tr>\n",
       "      <th>791</th>\n",
       "      <td>16.163923</td>\n",
       "      <td>30.137350</td>\n",
       "      <td>11.316622</td>\n",
       "      <td>8.139959</td>\n",
       "      <td>1001.987903</td>\n",
       "      <td>0</td>\n",
       "    </tr>\n",
       "    <tr>\n",
       "      <th>774</th>\n",
       "      <td>33.068915</td>\n",
       "      <td>73.954207</td>\n",
       "      <td>13.780580</td>\n",
       "      <td>3.410419</td>\n",
       "      <td>1035.864873</td>\n",
       "      <td>0</td>\n",
       "    </tr>\n",
       "    <tr>\n",
       "      <th>1959</th>\n",
       "      <td>15.675444</td>\n",
       "      <td>62.783217</td>\n",
       "      <td>9.712765</td>\n",
       "      <td>29.696437</td>\n",
       "      <td>1030.599615</td>\n",
       "      <td>0</td>\n",
       "    </tr>\n",
       "    <tr>\n",
       "      <th>...</th>\n",
       "      <td>...</td>\n",
       "      <td>...</td>\n",
       "      <td>...</td>\n",
       "      <td>...</td>\n",
       "      <td>...</td>\n",
       "      <td>...</td>\n",
       "    </tr>\n",
       "    <tr>\n",
       "      <th>442</th>\n",
       "      <td>33.124173</td>\n",
       "      <td>69.747446</td>\n",
       "      <td>7.818325</td>\n",
       "      <td>37.827843</td>\n",
       "      <td>1011.713890</td>\n",
       "      <td>0</td>\n",
       "    </tr>\n",
       "    <tr>\n",
       "      <th>22</th>\n",
       "      <td>21.536984</td>\n",
       "      <td>93.134654</td>\n",
       "      <td>1.424449</td>\n",
       "      <td>71.894899</td>\n",
       "      <td>990.935567</td>\n",
       "      <td>1</td>\n",
       "    </tr>\n",
       "    <tr>\n",
       "      <th>1086</th>\n",
       "      <td>11.072655</td>\n",
       "      <td>75.369903</td>\n",
       "      <td>18.313683</td>\n",
       "      <td>99.232689</td>\n",
       "      <td>1037.602601</td>\n",
       "      <td>1</td>\n",
       "    </tr>\n",
       "    <tr>\n",
       "      <th>1265</th>\n",
       "      <td>34.482158</td>\n",
       "      <td>93.344351</td>\n",
       "      <td>6.061386</td>\n",
       "      <td>23.293203</td>\n",
       "      <td>1039.035108</td>\n",
       "      <td>0</td>\n",
       "    </tr>\n",
       "    <tr>\n",
       "      <th>1868</th>\n",
       "      <td>33.876604</td>\n",
       "      <td>59.590553</td>\n",
       "      <td>6.278988</td>\n",
       "      <td>91.612422</td>\n",
       "      <td>1010.642484</td>\n",
       "      <td>0</td>\n",
       "    </tr>\n",
       "  </tbody>\n",
       "</table>\n",
       "<p>500 rows × 6 columns</p>\n",
       "</div>"
      ],
      "text/plain": [
       "      Temperature   Humidity  Wind_Speed  Cloud_Cover     Pressure  Rain\n",
       "2490    27.365273  43.619778    3.390757    69.498333   980.694046     0\n",
       "45      26.765947  73.079638   18.220506    54.832678   997.681740     0\n",
       "791     16.163923  30.137350   11.316622     8.139959  1001.987903     0\n",
       "774     33.068915  73.954207   13.780580     3.410419  1035.864873     0\n",
       "1959    15.675444  62.783217    9.712765    29.696437  1030.599615     0\n",
       "...           ...        ...         ...          ...          ...   ...\n",
       "442     33.124173  69.747446    7.818325    37.827843  1011.713890     0\n",
       "22      21.536984  93.134654    1.424449    71.894899   990.935567     1\n",
       "1086    11.072655  75.369903   18.313683    99.232689  1037.602601     1\n",
       "1265    34.482158  93.344351    6.061386    23.293203  1039.035108     0\n",
       "1868    33.876604  59.590553    6.278988    91.612422  1010.642484     0\n",
       "\n",
       "[500 rows x 6 columns]"
      ]
     },
     "execution_count": 39,
     "metadata": {},
     "output_type": "execute_result"
    }
   ],
   "source": [
    "import pandas as pd\n",
    "\n",
    "Testing = pd.read_csv('WeatherTestingData.csv',index_col = 0)\n",
    "Training = pd.read_csv('WeatherTrainingData.csv', index_col = 0)\n",
    "XTrain = Training.drop('Rain', axis = 1)\n",
    "yTrain = Training['Rain']\n",
    "XTest = Testing.drop('Rain', axis = 1)\n",
    "yTest = Testing['Rain']\n",
    "\n",
    "Testing"
   ]
  },
  {
   "cell_type": "markdown",
   "id": "1890c36f",
   "metadata": {},
   "source": [
    "Lets try the Stochastic Gradient Descent Classifier on the data modeled with Temp, Humidity ad Cloud Cover"
   ]
  },
  {
   "cell_type": "code",
   "execution_count": 45,
   "id": "fc43190c",
   "metadata": {},
   "outputs": [
    {
     "name": "stdout",
     "output_type": "stream",
     "text": [
      " SGDClassifier Acuuracy is 0.894\n"
     ]
    }
   ],
   "source": [
    "from sklearn.linear_model import SGDClassifier\n",
    "\n",
    "r = 42 #random state\n",
    "sdg = SGDClassifier(random_state = r)\n",
    "sdg.fit(XTrain, yTrain)\n",
    "\n",
    "\n",
    "ypred = sdg.predict(XTest)\n",
    "\n",
    "from sklearn.metrics import accuracy_score, roc_auc_score\n",
    "print(' SGDClassifier Acuuracy is %s' % (accuracy_score(yTest, ypred )))"
   ]
  },
  {
   "cell_type": "code",
   "execution_count": 49,
   "id": "4db187af",
   "metadata": {},
   "outputs": [
    {
     "name": "stdout",
     "output_type": "stream",
     "text": [
      "RandomForestClassifier depth = 2 Accuracy is 0.874\n",
      "RandomForestClassifier depth = 3 Accuracy is 0.992\n",
      "RandomForestClassifier depth = 4 Accuracy is 0.992\n",
      "RandomForestClassifier depth = 5 Accuracy is 0.994\n",
      "RandomForestClassifier depth = 6 Accuracy is 0.996\n",
      "RandomForestClassifier depth = 7 Accuracy is 0.996\n"
     ]
    },
    {
     "data": {
      "text/plain": [
       "array([0.25017363, 0.36736534, 0.01032251, 0.35616627, 0.01597224])"
      ]
     },
     "execution_count": 49,
     "metadata": {},
     "output_type": "execute_result"
    }
   ],
   "source": [
    "from sklearn.ensemble import RandomForestClassifier\n",
    "\n",
    "for depth in range(2,8):\n",
    "    forest = RandomForestClassifier(n_estimators = 50, \n",
    "                                    max_depth = depth,\n",
    "                                    min_samples_split = 20,\n",
    "                                    random_state = r,\n",
    "                                    bootstrap = True)\n",
    "\n",
    "    #fit model to the training data\n",
    "    forest.fit(XTrain, yTrain)\n",
    "    ypred_Trainforest = forest.predict(XTrain)\n",
    "\n",
    "    ypred_forest = forest.predict(XTest)\n",
    "\n",
    "    print('%s depth = %s Accuracy is %s' % (forest.__class__.__name__,\n",
    "                                            depth, \n",
    "                                            accuracy_score(yTest, ypred_forest)))\n",
    "\n",
    "forest.feature_importances_"
   ]
  },
  {
   "cell_type": "code",
   "execution_count": 42,
   "id": "92172cc5",
   "metadata": {},
   "outputs": [
    {
     "data": {
      "text/plain": [
       "Index(['Temperature', 'Humidity', 'Wind_Speed', 'Cloud_Cover', 'Pressure'], dtype='object')"
      ]
     },
     "execution_count": 42,
     "metadata": {},
     "output_type": "execute_result"
    }
   ],
   "source": [
    "XTest.columns"
   ]
  },
  {
   "cell_type": "markdown",
   "id": "4ac9ef92",
   "metadata": {},
   "source": [
    "- knn\n",
    "- svm\n"
   ]
  },
  {
   "cell_type": "code",
   "execution_count": null,
   "id": "735016ac",
   "metadata": {},
   "outputs": [],
   "source": [
    " "
   ]
  }
 ],
 "metadata": {
  "kernelspec": {
   "display_name": "Python 3 (ipykernel)",
   "language": "python",
   "name": "python3"
  },
  "language_info": {
   "codemirror_mode": {
    "name": "ipython",
    "version": 3
   },
   "file_extension": ".py",
   "mimetype": "text/x-python",
   "name": "python",
   "nbconvert_exporter": "python",
   "pygments_lexer": "ipython3",
   "version": "3.11.5"
  }
 },
 "nbformat": 4,
 "nbformat_minor": 5
}
