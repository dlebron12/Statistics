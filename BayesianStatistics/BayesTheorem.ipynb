{
 "cells": [
  {
   "cell_type": "markdown",
   "id": "bb6d68dc",
   "metadata": {},
   "source": [
    "Bayes Theorem serves to compute a type of conditional probability called a posterior probability. \n",
    "\n",
    "$$P(A|B) = \\frac{P(A)P(B|A)}{P(B)}$$\n",
    "\n",
    "## Problem 1: The Cookie Problem\n",
    "\n",
    "There are two bowls containing vainilla and chocolate cookies.  Bowl 1 has 30 vainilla cookies and has 10 chocolate cookies.  Bowl 2 has 20 vainilla cookies and 20 chocolate cookies.   \n",
    "\n",
    "Lets say that you chose a bowl at random.  Given that its a vainilla cookie, what is the probability that it came from the bowl #1?\n",
    "\n",
    "This is not the same as to say calculate the probability of getting a vainilla cookie from bowl 1, and rather given that that there are 2 bowls that you can chose from at random and unknowingly (which is your sample set) calculate the probability that if you picked a vainilla cookie it came from the bowl #1. It is more in a larger perspective than the outcome within a specific set. "
   ]
  },
  {
   "cell_type": "markdown",
   "id": "b8574fcb",
   "metadata": {},
   "source": [
    "The probability of choosing a vainilla cookie from bowl 1 is:\n",
    "$$P(V|B_1)=\\frac{nvainilla_{b1}}{n_{b1}}$$\n",
    "$$P(V|B_1)=\\frac{30}{40} = 3/4$$\n",
    "\n",
    "The probability of randomly choosing a bowl is:\n",
    "$$P(B_1) = P(B_2) = 0.5$$\n",
    "\n",
    "The probability of a vainilla cookie in the entire problem set (data) is:\n",
    "$$P(V) = 50/80 = 5/8$$ "
   ]
  },
  {
   "cell_type": "markdown",
   "id": "880caffc",
   "metadata": {},
   "source": [
    "We can use the Bayes Theorem to calculate the posterior:\n",
    "\n",
    "$$P(B_1|V) = \\frac{P(V|B_1)*P(B_1)}{P(V)}$$\n",
    "\n",
    "$$P(B_1|V) = \\frac{\\frac{3}{4}*\\frac{1}{2}}{\\frac{5}{8}} = 3/5 $$"
   ]
  },
  {
   "cell_type": "markdown",
   "id": "f471882d",
   "metadata": {},
   "source": [
    "# Bayesian Update\n",
    "\n",
    "probability of an event given the data, with the knowledge that the data will keep updating information about the probability of the event.\n",
    "\n",
    "__prior__ : probability of the event or hypothesis before we see the data.\n",
    "\n",
    "__likelihood__ : probability of the data given the hypothesis (or probability of the specific event within a sample set of [specific group] data)\n",
    "\n",
    "__totalprobabilityofevent__ : total probability of event within entire data.\n",
    "\n",
    "__posterior__: probability of the event or hypothesis after we see the data. (i.e actualizing our prior belief of the occurrance given the new data)"
   ]
  },
  {
   "cell_type": "markdown",
   "id": "a5f2f2af",
   "metadata": {},
   "source": [
    " ## Problem 2: \n",
    " \n",
    " Suppose you have two coins in a box.  One is a normal coin with heads on one side and tails on the other, and one is a trick coin with heads on both sides.  You can choose a coin at random and see that one of the sides is heads.  What is the probability that you chose the trick coin?\n",
    "\n",
    "n = normal and t = trick\n",
    "\n",
    "$$(P(C_n)=P(C_t)=0.5)$$\n",
    "\n",
    "$$P(H|C_n)=\\frac{1}{2}$$\n",
    "\n",
    "$$P(H|C_t)=1$$\n",
    "\n",
    "$$P(H) = 3/4$$\n",
    "\n",
    "$$P(C_t|H) = \\frac{P(C_t)*P(H|C_t)}{P(H)} =\\frac{\\frac{1}{2}*1}{3/4} = 1/3$$\n",
    "\n",
    "  "
   ]
  },
  {
   "cell_type": "markdown",
   "id": "29812d63",
   "metadata": {},
   "source": [
    "## Problem 3: \n",
    "\n",
    "Suppose you meet someone and learn that they have two children.  You ask if either child is a girl and they say yes.  What is the probability that both children are girls?\n",
    "\n",
    "- H1: first kid is a girl and the other one is a boy.\n",
    "- H2: first kid is a boy and second is a girl.\n",
    "- H3: both are girls.\n",
    "\n",
    "$$P(GG|at least 1 girl) = \\frac{P(GG)*P(1 girl|GG)}{P(1 girl)}$$"
   ]
  },
  {
   "cell_type": "code",
   "execution_count": 1,
   "id": "e0ac7d64",
   "metadata": {},
   "outputs": [],
   "source": [
    "import pandas as pd\n",
    "df = pd.DataFrame(index = ['GB','BG','GG'])\n",
    "df['prior'] = 1/3 #any of the three choices are equally possible\n",
    "df['likelihood'] = [1,1,1] # probability of a girl in each event"
   ]
  },
  {
   "cell_type": "code",
   "execution_count": 2,
   "id": "b925aa9b",
   "metadata": {},
   "outputs": [
    {
     "data": {
      "text/html": [
       "<div>\n",
       "<style scoped>\n",
       "    .dataframe tbody tr th:only-of-type {\n",
       "        vertical-align: middle;\n",
       "    }\n",
       "\n",
       "    .dataframe tbody tr th {\n",
       "        vertical-align: top;\n",
       "    }\n",
       "\n",
       "    .dataframe thead th {\n",
       "        text-align: right;\n",
       "    }\n",
       "</style>\n",
       "<table border=\"1\" class=\"dataframe\">\n",
       "  <thead>\n",
       "    <tr style=\"text-align: right;\">\n",
       "      <th></th>\n",
       "      <th>prior</th>\n",
       "      <th>likelihood</th>\n",
       "      <th>posterior</th>\n",
       "    </tr>\n",
       "  </thead>\n",
       "  <tbody>\n",
       "    <tr>\n",
       "      <th>GB</th>\n",
       "      <td>0.333333</td>\n",
       "      <td>1</td>\n",
       "      <td>0.333333</td>\n",
       "    </tr>\n",
       "    <tr>\n",
       "      <th>BG</th>\n",
       "      <td>0.333333</td>\n",
       "      <td>1</td>\n",
       "      <td>0.333333</td>\n",
       "    </tr>\n",
       "    <tr>\n",
       "      <th>GG</th>\n",
       "      <td>0.333333</td>\n",
       "      <td>1</td>\n",
       "      <td>0.333333</td>\n",
       "    </tr>\n",
       "  </tbody>\n",
       "</table>\n",
       "</div>"
      ],
      "text/plain": [
       "       prior  likelihood  posterior\n",
       "GB  0.333333           1   0.333333\n",
       "BG  0.333333           1   0.333333\n",
       "GG  0.333333           1   0.333333"
      ]
     },
     "execution_count": 2,
     "metadata": {},
     "output_type": "execute_result"
    }
   ],
   "source": [
    "df['posterior'] = df['prior']*df['likelihood'] / sum(df['prior']*df['likelihood'])\n",
    "df"
   ]
  },
  {
   "cell_type": "code",
   "execution_count": null,
   "id": "ca6ba1ef",
   "metadata": {},
   "outputs": [],
   "source": [
    "## The probability that both children are girls is 0.5 "
   ]
  },
  {
   "cell_type": "markdown",
   "id": "f28815b8",
   "metadata": {},
   "source": [
    "## Problem 3: \n",
    "\n",
    "M&M's are small candy coated chocolates that come ina variety of colors.  Mars, inc. which makes M&M's changes the miture of colors from time to time.  In 1995, they introduces blue m&ms.  In 1994 the color miz in a nag of plain M&M's was 30% Brown, 20% Yellow, 20% Red, 10% Green, 10% Orange, 10% Tan.\n",
    "\n",
    "In 1996 it was 24% blue, 20% Green, 16% Orange 14% Yellow, 13% Red, 13% Brown.\n",
    "\n",
    "Supposed a friend of mine has two bags and he tells me that one is from 1994 and another from 1996.  He wont tell me which is which, but he gives me one M&M from each bag.  One is yellow and one is green.  What is the probability that the yellow one came from the 1994 bag?\n"
   ]
  },
  {
   "cell_type": "code",
   "execution_count": 12,
   "id": "3059cc49",
   "metadata": {},
   "outputs": [
    {
     "data": {
      "text/plain": [
       "0.5882352941176471"
      ]
     },
     "execution_count": 12,
     "metadata": {},
     "output_type": "execute_result"
    }
   ],
   "source": [
    "import pandas as pd\n",
    "\n",
    "mnm_df = pd.DataFrame(index = ['1994','1996'])\n",
    "n = 100\n",
    "\n",
    "P94 = P96 = 1/2 #equal probability of either bag\n",
    "\n",
    "# he gives 1 m&m from each bag one is yellow and one is green.  What is the probability that the yellow /\n",
    "# is from the 1994 bag. Can we dismiss the fact he gave two? Does it really matter to report that? Unless order really mattered.\n",
    "\n",
    "Py94 = 0.2\n",
    "pg96 = 0.16\n",
    "\n",
    "Pyellow = (14+20)/200\n",
    "\n",
    "pb94y = (P94*Py94)/Pyellow\n",
    "pb94y"
   ]
  },
  {
   "cell_type": "code",
   "execution_count": 9,
   "id": "5ec7d893",
   "metadata": {},
   "outputs": [
    {
     "data": {
      "text/plain": [
       "0.032"
      ]
     },
     "execution_count": 9,
     "metadata": {},
     "output_type": "execute_result"
    }
   ],
   "source": [
    "Pyg = 0.2*0.16\n",
    "Pyg"
   ]
  },
  {
   "cell_type": "code",
   "execution_count": 10,
   "id": "8fd7e108",
   "metadata": {},
   "outputs": [
    {
     "data": {
      "text/plain": [
       "0.17"
      ]
     },
     "execution_count": 10,
     "metadata": {},
     "output_type": "execute_result"
    }
   ],
   "source": [
    "Pyellow "
   ]
  },
  {
   "cell_type": "code",
   "execution_count": 11,
   "id": "caf76cef",
   "metadata": {},
   "outputs": [
    {
     "data": {
      "text/plain": [
       "0.17"
      ]
     },
     "execution_count": 11,
     "metadata": {},
     "output_type": "execute_result"
    }
   ],
   "source": [
    "Pyellow = 0.2*0.5 + 0.5*0.14\n",
    "Pyellow"
   ]
  },
  {
   "cell_type": "code",
   "execution_count": 17,
   "id": "d6265d4e",
   "metadata": {},
   "outputs": [
    {
     "data": {
      "text/html": [
       "<div>\n",
       "<style scoped>\n",
       "    .dataframe tbody tr th:only-of-type {\n",
       "        vertical-align: middle;\n",
       "    }\n",
       "\n",
       "    .dataframe tbody tr th {\n",
       "        vertical-align: top;\n",
       "    }\n",
       "\n",
       "    .dataframe thead th {\n",
       "        text-align: right;\n",
       "    }\n",
       "</style>\n",
       "<table border=\"1\" class=\"dataframe\">\n",
       "  <thead>\n",
       "    <tr style=\"text-align: right;\">\n",
       "      <th></th>\n",
       "      <th>prior</th>\n",
       "      <th>likelihood</th>\n",
       "      <th>unnorm</th>\n",
       "      <th>posterior</th>\n",
       "    </tr>\n",
       "  </thead>\n",
       "  <tbody>\n",
       "    <tr>\n",
       "      <th>1994</th>\n",
       "      <td>0.5</td>\n",
       "      <td>0.040</td>\n",
       "      <td>0.020</td>\n",
       "      <td>0.740741</td>\n",
       "    </tr>\n",
       "    <tr>\n",
       "      <th>1996</th>\n",
       "      <td>0.5</td>\n",
       "      <td>0.014</td>\n",
       "      <td>0.007</td>\n",
       "      <td>0.259259</td>\n",
       "    </tr>\n",
       "  </tbody>\n",
       "</table>\n",
       "</div>"
      ],
      "text/plain": [
       "      prior  likelihood  unnorm  posterior\n",
       "1994    0.5       0.040   0.020   0.740741\n",
       "1996    0.5       0.014   0.007   0.259259"
      ]
     },
     "execution_count": 17,
     "metadata": {},
     "output_type": "execute_result"
    }
   ],
   "source": [
    "#another hypothesis is that the yellow couldve came from the opposite bag so lets see how that looks like\n",
    "#probability that the yellow came from 1996 and the green from 1994; probability that the yellow came from 1994 and green from 1996\n",
    "#independent events make the likelihood be multiplied.\n",
    "mnm_df['prior'] = 1/2\n",
    "mnm_df['likelihood'] = [0.2*0.2, 0.14*0.1]\n",
    "\n",
    "mnm_df['unnorm'] = mnm_df['prior'] *mnm_df['likelihood']\n",
    "mnm_df['posterior'] = mnm_df['unnorm'] / mnm_df['unnorm'].sum()\n",
    "mnm_df"
   ]
  },
  {
   "cell_type": "code",
   "execution_count": null,
   "id": "aeccc201",
   "metadata": {},
   "outputs": [],
   "source": [
    "## There is a higher likelihood that the bag came from the 1994 bag than the 1996."
   ]
  }
 ],
 "metadata": {
  "kernelspec": {
   "display_name": "Python 3 (ipykernel)",
   "language": "python",
   "name": "python3"
  },
  "language_info": {
   "codemirror_mode": {
    "name": "ipython",
    "version": 3
   },
   "file_extension": ".py",
   "mimetype": "text/x-python",
   "name": "python",
   "nbconvert_exporter": "python",
   "pygments_lexer": "ipython3",
   "version": "3.11.5"
  }
 },
 "nbformat": 4,
 "nbformat_minor": 5
}
