{
 "cells": [
  {
   "cell_type": "code",
   "execution_count": 1,
   "id": "2e66c77d",
   "metadata": {},
   "outputs": [
    {
     "name": "stdout",
     "output_type": "stream",
     "text": [
      "ThinkBayesChapter1.ipynb\r\n"
     ]
    }
   ],
   "source": [
    "!ls"
   ]
  },
  {
   "cell_type": "code",
   "execution_count": 2,
   "id": "da697348",
   "metadata": {},
   "outputs": [],
   "source": [
    "import pandas as pd\n",
    "gss = pd.read_csv('../Desktop/gss_bayes.csv',index_col = 0)"
   ]
  },
  {
   "cell_type": "code",
   "execution_count": 3,
   "id": "e5cea3cc",
   "metadata": {},
   "outputs": [
    {
     "data": {
      "text/html": [
       "<div>\n",
       "<style scoped>\n",
       "    .dataframe tbody tr th:only-of-type {\n",
       "        vertical-align: middle;\n",
       "    }\n",
       "\n",
       "    .dataframe tbody tr th {\n",
       "        vertical-align: top;\n",
       "    }\n",
       "\n",
       "    .dataframe thead th {\n",
       "        text-align: right;\n",
       "    }\n",
       "</style>\n",
       "<table border=\"1\" class=\"dataframe\">\n",
       "  <thead>\n",
       "    <tr style=\"text-align: right;\">\n",
       "      <th></th>\n",
       "      <th>year</th>\n",
       "      <th>age</th>\n",
       "      <th>sex</th>\n",
       "      <th>polviews</th>\n",
       "      <th>partyid</th>\n",
       "      <th>indus10</th>\n",
       "    </tr>\n",
       "    <tr>\n",
       "      <th>caseid</th>\n",
       "      <th></th>\n",
       "      <th></th>\n",
       "      <th></th>\n",
       "      <th></th>\n",
       "      <th></th>\n",
       "      <th></th>\n",
       "    </tr>\n",
       "  </thead>\n",
       "  <tbody>\n",
       "    <tr>\n",
       "      <th>1</th>\n",
       "      <td>1974</td>\n",
       "      <td>21.0</td>\n",
       "      <td>1</td>\n",
       "      <td>4.0</td>\n",
       "      <td>2.0</td>\n",
       "      <td>4970.0</td>\n",
       "    </tr>\n",
       "    <tr>\n",
       "      <th>2</th>\n",
       "      <td>1974</td>\n",
       "      <td>41.0</td>\n",
       "      <td>1</td>\n",
       "      <td>5.0</td>\n",
       "      <td>0.0</td>\n",
       "      <td>9160.0</td>\n",
       "    </tr>\n",
       "    <tr>\n",
       "      <th>5</th>\n",
       "      <td>1974</td>\n",
       "      <td>58.0</td>\n",
       "      <td>2</td>\n",
       "      <td>6.0</td>\n",
       "      <td>1.0</td>\n",
       "      <td>2670.0</td>\n",
       "    </tr>\n",
       "    <tr>\n",
       "      <th>6</th>\n",
       "      <td>1974</td>\n",
       "      <td>30.0</td>\n",
       "      <td>1</td>\n",
       "      <td>5.0</td>\n",
       "      <td>4.0</td>\n",
       "      <td>6870.0</td>\n",
       "    </tr>\n",
       "    <tr>\n",
       "      <th>7</th>\n",
       "      <td>1974</td>\n",
       "      <td>48.0</td>\n",
       "      <td>1</td>\n",
       "      <td>5.0</td>\n",
       "      <td>4.0</td>\n",
       "      <td>7860.0</td>\n",
       "    </tr>\n",
       "  </tbody>\n",
       "</table>\n",
       "</div>"
      ],
      "text/plain": [
       "        year   age  sex  polviews  partyid  indus10\n",
       "caseid                                             \n",
       "1       1974  21.0    1       4.0      2.0   4970.0\n",
       "2       1974  41.0    1       5.0      0.0   9160.0\n",
       "5       1974  58.0    2       6.0      1.0   2670.0\n",
       "6       1974  30.0    1       5.0      4.0   6870.0\n",
       "7       1974  48.0    1       5.0      4.0   7860.0"
      ]
     },
     "execution_count": 3,
     "metadata": {},
     "output_type": "execute_result"
    }
   ],
   "source": [
    "gss.head()"
   ]
  },
  {
   "cell_type": "markdown",
   "id": "6fd862fd",
   "metadata": {},
   "source": [
    "## Columns are:\n",
    " - caseid: respondent id\n",
    " - year: year when the respondent was surveyed\n",
    " - age: respondents age when surveyed\n",
    " - sex: F (2)/M (1) \n",
    " - polyviews: political views on a range from liberal to conservative \n",
    " 1- extremely liberal; 2-liberal ; 3-slightly liberal;4-moderate;5-slightly conservative; 6-conservative; 7-extremely conservative\n",
    " - partyid: political party affiliation: Democratic, Republican, independent\n",
    "0-strong democrat; 1-not strong democrat; 2-independent, near dem; 3- independent; 4-independent, near rep; 5-not strong rep; 6-strong rep; 7-other party\n",
    " - indus10: code for industry the correspondent works for."
   ]
  },
  {
   "cell_type": "code",
   "execution_count": 5,
   "id": "3ab15b51",
   "metadata": {},
   "outputs": [
    {
     "data": {
      "text/plain": [
       "728"
      ]
     },
     "execution_count": 5,
     "metadata": {},
     "output_type": "execute_result"
    }
   ],
   "source": [
    "banker = gss['indus10'] == 6870\n",
    "banker.sum()"
   ]
  },
  {
   "cell_type": "code",
   "execution_count": 8,
   "id": "3828b12f",
   "metadata": {},
   "outputs": [
    {
     "data": {
      "text/plain": [
       "(49290, 6)"
      ]
     },
     "execution_count": 8,
     "metadata": {},
     "output_type": "execute_result"
    }
   ],
   "source": [
    "gss.shape"
   ]
  },
  {
   "cell_type": "code",
   "execution_count": 10,
   "id": "eb19d98a",
   "metadata": {},
   "outputs": [
    {
     "data": {
      "text/plain": [
       "0.014769730168391155"
      ]
     },
     "execution_count": 10,
     "metadata": {},
     "output_type": "execute_result"
    }
   ],
   "source": [
    "banker.mean() #probability of being a banker is 0.015 or 1.5%"
   ]
  },
  {
   "cell_type": "code",
   "execution_count": 11,
   "id": "74a9aeca",
   "metadata": {},
   "outputs": [],
   "source": [
    "def prob(A):\n",
    "    \"\"\"Calculates probability of event\"\"\"\n",
    "    return A.mean()"
   ]
  },
  {
   "cell_type": "code",
   "execution_count": 12,
   "id": "5d201192",
   "metadata": {},
   "outputs": [
    {
     "data": {
      "text/plain": [
       "0.014769730168391155"
      ]
     },
     "execution_count": 12,
     "metadata": {},
     "output_type": "execute_result"
    }
   ],
   "source": [
    "prob(banker)"
   ]
  },
  {
   "cell_type": "code",
   "execution_count": 14,
   "id": "f9ebd84e",
   "metadata": {},
   "outputs": [
    {
     "data": {
      "text/plain": [
       "0.5378575776019476"
      ]
     },
     "execution_count": 14,
     "metadata": {},
     "output_type": "execute_result"
    }
   ],
   "source": [
    "female = gss['sex'] == 2 #2 is female and 1 is male\n",
    "prob(female)"
   ]
  },
  {
   "cell_type": "markdown",
   "id": "372e664f",
   "metadata": {},
   "source": [
    "## Population in this sample set is more than the male population due to the survey not sampling in jails and in the army where the population is predominantly male."
   ]
  },
  {
   "cell_type": "code",
   "execution_count": 21,
   "id": "aee34aa3",
   "metadata": {},
   "outputs": [
    {
     "name": "stdout",
     "output_type": "stream",
     "text": [
      "13493\n"
     ]
    },
    {
     "data": {
      "text/plain": [
       "0.27374721038750255"
      ]
     },
     "execution_count": 21,
     "metadata": {},
     "output_type": "execute_result"
    }
   ],
   "source": [
    "liberal = (gss['polviews'] <= 3)\n",
    "print(liberal.sum())\n",
    "prob(liberal)"
   ]
  },
  {
   "cell_type": "code",
   "execution_count": 22,
   "id": "561b30fd",
   "metadata": {},
   "outputs": [
    {
     "data": {
      "text/plain": [
       "0.3662609048488537"
      ]
     },
     "execution_count": 22,
     "metadata": {},
     "output_type": "execute_result"
    }
   ],
   "source": [
    "democrat = gss['partyid'] <= 1\n",
    "prob(democrat)"
   ]
  },
  {
   "cell_type": "markdown",
   "id": "b9410239",
   "metadata": {},
   "source": [
    "## Conjunction"
   ]
  },
  {
   "cell_type": "code",
   "execution_count": 24,
   "id": "e13d756b",
   "metadata": {},
   "outputs": [
    {
     "data": {
      "text/plain": [
       "0.004686548995739501"
      ]
     },
     "execution_count": 24,
     "metadata": {},
     "output_type": "execute_result"
    }
   ],
   "source": [
    "prob(democrat & banker)"
   ]
  },
  {
   "cell_type": "markdown",
   "id": "f99154f1",
   "metadata": {},
   "source": [
    "## Conditional Probability"
   ]
  },
  {
   "cell_type": "code",
   "execution_count": 28,
   "id": "bbb6a513",
   "metadata": {},
   "outputs": [
    {
     "data": {
      "text/plain": [
       "0.5206403320240125"
      ]
     },
     "execution_count": 28,
     "metadata": {},
     "output_type": "execute_result"
    }
   ],
   "source": [
    "#- What is the probability a respondent is democrat given that they are liberal\n",
    "selected = democrat[liberal]\n",
    "prob(selected)"
   ]
  },
  {
   "cell_type": "markdown",
   "id": "ea198bf8",
   "metadata": {},
   "source": [
    "### -What is the probability that a respondent is a female given that they are a banker? <=> \"Of all the respondents that are bankers how many are female\""
   ]
  },
  {
   "cell_type": "code",
   "execution_count": 30,
   "id": "51a8f770",
   "metadata": {},
   "outputs": [
    {
     "data": {
      "text/plain": [
       "0.7706043956043956"
      ]
     },
     "execution_count": 30,
     "metadata": {},
     "output_type": "execute_result"
    }
   ],
   "source": [
    "selected = female[banker]\n",
    "prob(selected)"
   ]
  },
  {
   "cell_type": "code",
   "execution_count": 32,
   "id": "74882580",
   "metadata": {},
   "outputs": [
    {
     "data": {
      "text/plain": [
       "0.7706043956043956"
      ]
     },
     "execution_count": 32,
     "metadata": {},
     "output_type": "execute_result"
    }
   ],
   "source": [
    "def conditional(proposition, given):\n",
    "    return prob(proposition[given])\n",
    "\n",
    "conditional(female,banker)"
   ]
  },
  {
   "cell_type": "markdown",
   "id": "cad611c9",
   "metadata": {},
   "source": [
    "## Exercises "
   ]
  },
  {
   "cell_type": "code",
   "execution_count": null,
   "id": "b2e2b3a6",
   "metadata": {},
   "outputs": [],
   "source": []
  }
 ],
 "metadata": {
  "kernelspec": {
   "display_name": "Python 3 (ipykernel)",
   "language": "python",
   "name": "python3"
  },
  "language_info": {
   "codemirror_mode": {
    "name": "ipython",
    "version": 3
   },
   "file_extension": ".py",
   "mimetype": "text/x-python",
   "name": "python",
   "nbconvert_exporter": "python",
   "pygments_lexer": "ipython3",
   "version": "3.11.5"
  }
 },
 "nbformat": 4,
 "nbformat_minor": 5
}
